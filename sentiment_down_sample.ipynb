{
 "cells": [
  {
   "cell_type": "markdown",
   "metadata": {
    "colab_type": "text",
    "id": "IiSxMq3q3JyS"
   },
   "source": [
    "# Importing Libraries"
   ]
  },
  {
   "cell_type": "code",
   "execution_count": 1,
   "metadata": {
    "colab": {
     "base_uri": "https://localhost:8080/",
     "height": 72
    },
    "colab_type": "code",
    "executionInfo": {
     "elapsed": 2752,
     "status": "ok",
     "timestamp": 1595333182457,
     "user": {
      "displayName": "Ganesh Bhat M S",
      "photoUrl": "",
      "userId": "03973382970329455094"
     },
     "user_tz": -330
    },
    "id": "hKl5e0Ut2zgp",
    "outputId": "6214b0d3-5740-4f2c-97f4-ea96ac097ae0"
   },
   "outputs": [],
   "source": [
    "import numpy as np\n",
    "import pandas as pd\n",
    "import matplotlib.pyplot as plt\n",
    "import seaborn as sns"
   ]
  },
  {
   "cell_type": "code",
   "execution_count": 2,
   "metadata": {},
   "outputs": [],
   "source": [
    "from matplotlib import rcParams\n",
    "rcParams.update({'figure.autolayout': True})"
   ]
  },
  {
   "cell_type": "code",
   "execution_count": 3,
   "metadata": {
    "colab": {
     "base_uri": "https://localhost:8080/",
     "height": 121
    },
    "colab_type": "code",
    "executionInfo": {
     "elapsed": 2748,
     "status": "ok",
     "timestamp": 1595333182466,
     "user": {
      "displayName": "Ganesh Bhat M S",
      "photoUrl": "",
      "userId": "03973382970329455094"
     },
     "user_tz": -330
    },
    "id": "EXexUX6i79O4",
    "outputId": "c0f4ecd5-f78d-4a2d-84df-7a875b1469ff"
   },
   "outputs": [],
   "source": [
    "import nltk\n",
    "#nltk.download('stopwords')\n",
    "#nltk.download('punkt')\n",
    "#nltk.download('wordnet')\n",
    "\n",
    "import unicodedata\n",
    "from wordcloud import WordCloud, ImageColorGenerator\n",
    "from PIL import Image\n",
    "import urllib\n",
    "import requests\n",
    "from nltk.corpus import stopwords \n",
    "import string \n",
    "from nltk.stem import WordNetLemmatizer\n",
    "from nltk.tokenize import word_tokenize\n",
    "from nltk.stem import PorterStemmer\n",
    "import nltk\n",
    "import re\n",
    "\n",
    "from sklearn.feature_extraction.text import CountVectorizer\n",
    "from sklearn.feature_extraction.text import TfidfVectorizer\n",
    "from sklearn.model_selection import train_test_split\n",
    "from sklearn.metrics import classification_report, f1_score, accuracy_score, confusion_matrix\n",
    "from sklearn.utils import resample\n",
    "\n",
    "from sklearn.linear_model import LogisticRegression\n",
    "from sklearn.tree import DecisionTreeClassifier\n",
    "from sklearn.ensemble import GradientBoostingClassifier ,RandomForestClassifier,\\\n",
    "            ExtraTreesClassifier, VotingClassifier\n",
    "from sklearn.naive_bayes import MultinomialNB"
   ]
  },
  {
   "cell_type": "code",
   "execution_count": 4,
   "metadata": {
    "colab": {
     "base_uri": "https://localhost:8080/",
     "height": 173
    },
    "colab_type": "code",
    "executionInfo": {
     "elapsed": 2738,
     "status": "ok",
     "timestamp": 1595333182470,
     "user": {
      "displayName": "Ganesh Bhat M S",
      "photoUrl": "",
      "userId": "03973382970329455094"
     },
     "user_tz": -330
    },
    "id": "_8iZruj73bQ5",
    "outputId": "3f442dae-3450-4bb5-83cf-4420b6f7414f"
   },
   "outputs": [
    {
     "data": {
      "text/html": [
       "<div>\n",
       "<style scoped>\n",
       "    .dataframe tbody tr th:only-of-type {\n",
       "        vertical-align: middle;\n",
       "    }\n",
       "\n",
       "    .dataframe tbody tr th {\n",
       "        vertical-align: top;\n",
       "    }\n",
       "\n",
       "    .dataframe thead th {\n",
       "        text-align: right;\n",
       "    }\n",
       "</style>\n",
       "<table border=\"1\" class=\"dataframe\">\n",
       "  <thead>\n",
       "    <tr style=\"text-align: right;\">\n",
       "      <th></th>\n",
       "      <th>label</th>\n",
       "      <th>tweet</th>\n",
       "    </tr>\n",
       "  </thead>\n",
       "  <tbody>\n",
       "    <tr>\n",
       "      <th>0</th>\n",
       "      <td>0</td>\n",
       "      <td>@user when a father is dysfunctional and is so selfish he drags his kids into his dysfunction.   #run</td>\n",
       "    </tr>\n",
       "    <tr>\n",
       "      <th>1</th>\n",
       "      <td>0</td>\n",
       "      <td>@user @user thanks for #lyft credit i can't use cause they don't offer wheelchair vans in pdx.    #disapointed #getthanked</td>\n",
       "    </tr>\n",
       "    <tr>\n",
       "      <th>2</th>\n",
       "      <td>0</td>\n",
       "      <td>bihday your majesty</td>\n",
       "    </tr>\n",
       "    <tr>\n",
       "      <th>3</th>\n",
       "      <td>0</td>\n",
       "      <td>#model   i love u take with u all the time in urð±!!! ðððð",
       "ð¦ð¦ð¦</td>\n",
       "    </tr>\n",
       "    <tr>\n",
       "      <th>4</th>\n",
       "      <td>0</td>\n",
       "      <td>factsguide: society now    #motivation</td>\n",
       "    </tr>\n",
       "  </tbody>\n",
       "</table>\n",
       "</div>"
      ],
      "text/plain": [
       "   label  \\\n",
       "0      0   \n",
       "1      0   \n",
       "2      0   \n",
       "3      0   \n",
       "4      0   \n",
       "\n",
       "                                                                                                                        tweet  \n",
       "0                       @user when a father is dysfunctional and is so selfish he drags his kids into his dysfunction.   #run  \n",
       "1  @user @user thanks for #lyft credit i can't use cause they don't offer wheelchair vans in pdx.    #disapointed #getthanked  \n",
       "2                                                                                                         bihday your majesty  \n",
       "3                                      #model   i love u take with u all the time in urð±!!! ðððð\n",
       "ð¦ð¦ð¦    \n",
       "4                                                                                      factsguide: society now    #motivation  "
      ]
     },
     "execution_count": 4,
     "metadata": {},
     "output_type": "execute_result"
    }
   ],
   "source": [
    "pd.set_option('display.max_colwidth', 1000)\n",
    "path = \"Data/train_tweets.csv\"\n",
    "tweetData = pd.read_csv(path, sep=',', encoding='UTF-8')\n",
    "tweetData.drop(labels= 'id', axis=1, inplace= True)\n",
    "tweetData.head()"
   ]
  },
  {
   "cell_type": "markdown",
   "metadata": {
    "colab_type": "text",
    "id": "HzbdAF8a6ILb"
   },
   "source": [
    "# Pre-processing"
   ]
  },
  {
   "cell_type": "code",
   "execution_count": 5,
   "metadata": {
    "colab": {},
    "colab_type": "code",
    "executionInfo": {
     "elapsed": 2729,
     "status": "ok",
     "timestamp": 1595333182475,
     "user": {
      "displayName": "Ganesh Bhat M S",
      "photoUrl": "",
      "userId": "03973382970329455094"
     },
     "user_tz": -330
    },
    "id": "UiA9beW_-foB"
   },
   "outputs": [],
   "source": [
    "newStopWords = ['thi','amp','if','sjw','user','co']\n",
    "stop_words = stopwords.words(fileids='english')\n",
    "stop_words.extend(newStopWords)"
   ]
  },
  {
   "cell_type": "code",
   "execution_count": 6,
   "metadata": {
    "colab": {},
    "colab_type": "code",
    "executionInfo": {
     "elapsed": 2721,
     "status": "ok",
     "timestamp": 1595333182480,
     "user": {
      "displayName": "Ganesh Bhat M S",
      "photoUrl": "",
      "userId": "03973382970329455094"
     },
     "user_tz": -330
    },
    "id": "q6sRwI4-6z2M"
   },
   "outputs": [],
   "source": [
    "def remove_pattern(input_txt, pattern):\n",
    "    txt = re.sub(pattern, \" \", input_txt)\n",
    "    return txt"
   ]
  },
  {
   "cell_type": "code",
   "execution_count": 7,
   "metadata": {
    "colab": {},
    "colab_type": "code",
    "executionInfo": {
     "elapsed": 2708,
     "status": "ok",
     "timestamp": 1595333182482,
     "user": {
      "displayName": "Ganesh Bhat M S",
      "photoUrl": "",
      "userId": "03973382970329455094"
     },
     "user_tz": -330
    },
    "id": "66DfL3NdI8I-"
   },
   "outputs": [],
   "source": [
    "def preprocess(dataframe):\n",
    "    dataframe['cleaned'] = dataframe['tweet'].apply(lambda x: \" \".join(x.lower() for x in x.split()))\n",
    "    dataframe['cleaned'] = np.vectorize(remove_pattern)(dataframe['cleaned'], r\"(https|http)?:\\/\\/(\\w|\\.|\\/|\\?|\\=|\\&|\\%)*\\b\")\n",
    "    dataframe['cleaned'] = np.vectorize(remove_pattern)(dataframe['cleaned'], r\"@[\\w]*\")\n",
    "    dataframe['cleaned'] = dataframe['cleaned'].str.replace(\"[^a-zA-Z#]\", \" \")\n",
    "\n",
    "    dataframe['cleaned'] = dataframe['cleaned'].apply(lambda row: nltk.word_tokenize(row))\n",
    "    dataframe['cleaned'] = dataframe['cleaned'].apply(lambda row: [word for word in row if word not in stop_words])\n",
    "    dataframe['cleaned'] = dataframe['cleaned'].apply(lambda row: [word for word in row if word not in string.punctuation])\n",
    "    lemmatizer = WordNetLemmatizer()\n",
    "    dataframe['cleaned'] = dataframe['cleaned'].apply(lambda x: [lemmatizer.lemmatize(i) for i in x])\n",
    "    dataframe['cleaned'] = dataframe['cleaned'].apply(lambda x: ' '.join(x))\n",
    "    dataframe['cleaned'] = dataframe['cleaned'].apply(lambda x:unicodedata.normalize('NFKD', x).encode('ascii', 'ignore').decode('utf-8', 'ignore'))\n",
    "    dataframe['cleaned'] = dataframe['cleaned'].apply(lambda x: ' '.join([w for w in x.split() if len(w)>1]))\n",
    "    return dataframe"
   ]
  },
  {
   "cell_type": "code",
   "execution_count": 8,
   "metadata": {
    "colab": {
     "base_uri": "https://localhost:8080/",
     "height": 206
    },
    "colab_type": "code",
    "executionInfo": {
     "elapsed": 12563,
     "status": "ok",
     "timestamp": 1595333192350,
     "user": {
      "displayName": "Ganesh Bhat M S",
      "photoUrl": "",
      "userId": "03973382970329455094"
     },
     "user_tz": -330
    },
    "id": "_-2gKvpu-DGU",
    "outputId": "1130bbe4-e311-417e-dcbc-55eedd3692d3"
   },
   "outputs": [
    {
     "data": {
      "text/html": [
       "<div>\n",
       "<style scoped>\n",
       "    .dataframe tbody tr th:only-of-type {\n",
       "        vertical-align: middle;\n",
       "    }\n",
       "\n",
       "    .dataframe tbody tr th {\n",
       "        vertical-align: top;\n",
       "    }\n",
       "\n",
       "    .dataframe thead th {\n",
       "        text-align: right;\n",
       "    }\n",
       "</style>\n",
       "<table border=\"1\" class=\"dataframe\">\n",
       "  <thead>\n",
       "    <tr style=\"text-align: right;\">\n",
       "      <th></th>\n",
       "      <th>label</th>\n",
       "      <th>tweet</th>\n",
       "      <th>cleaned</th>\n",
       "    </tr>\n",
       "  </thead>\n",
       "  <tbody>\n",
       "    <tr>\n",
       "      <th>0</th>\n",
       "      <td>0</td>\n",
       "      <td>@user when a father is dysfunctional and is so selfish he drags his kids into his dysfunction.   #run</td>\n",
       "      <td>father dysfunctional selfish drag kid dysfunction run</td>\n",
       "    </tr>\n",
       "    <tr>\n",
       "      <th>1</th>\n",
       "      <td>0</td>\n",
       "      <td>@user @user thanks for #lyft credit i can't use cause they don't offer wheelchair vans in pdx.    #disapointed #getthanked</td>\n",
       "      <td>thanks lyft credit use cause offer wheelchair van pdx disapointed getthanked</td>\n",
       "    </tr>\n",
       "    <tr>\n",
       "      <th>2</th>\n",
       "      <td>0</td>\n",
       "      <td>bihday your majesty</td>\n",
       "      <td>bihday majesty</td>\n",
       "    </tr>\n",
       "    <tr>\n",
       "      <th>3</th>\n",
       "      <td>0</td>\n",
       "      <td>#model   i love u take with u all the time in urð±!!! ðððð",
       "ð¦ð¦ð¦</td>\n",
       "      <td>model love take time ur</td>\n",
       "    </tr>\n",
       "    <tr>\n",
       "      <th>4</th>\n",
       "      <td>0</td>\n",
       "      <td>factsguide: society now    #motivation</td>\n",
       "      <td>factsguide society motivation</td>\n",
       "    </tr>\n",
       "  </tbody>\n",
       "</table>\n",
       "</div>"
      ],
      "text/plain": [
       "   label  \\\n",
       "0      0   \n",
       "1      0   \n",
       "2      0   \n",
       "3      0   \n",
       "4      0   \n",
       "\n",
       "                                                                                                                        tweet  \\\n",
       "0                       @user when a father is dysfunctional and is so selfish he drags his kids into his dysfunction.   #run   \n",
       "1  @user @user thanks for #lyft credit i can't use cause they don't offer wheelchair vans in pdx.    #disapointed #getthanked   \n",
       "2                                                                                                         bihday your majesty   \n",
       "3                                      #model   i love u take with u all the time in urð±!!! ðððð\n",
       "ð¦ð¦ð¦     \n",
       "4                                                                                      factsguide: society now    #motivation   \n",
       "\n",
       "                                                                        cleaned  \n",
       "0                         father dysfunctional selfish drag kid dysfunction run  \n",
       "1  thanks lyft credit use cause offer wheelchair van pdx disapointed getthanked  \n",
       "2                                                                bihday majesty  \n",
       "3                                                       model love take time ur  \n",
       "4                                                 factsguide society motivation  "
      ]
     },
     "execution_count": 8,
     "metadata": {},
     "output_type": "execute_result"
    }
   ],
   "source": [
    "tweetDataCleaned = preprocess(tweetData)\n",
    "tweetDataCleaned.head()"
   ]
  },
  {
   "cell_type": "markdown",
   "metadata": {
    "colab_type": "text",
    "id": "RGulxLmxXUI8"
   },
   "source": [
    "## Down-sample"
   ]
  },
  {
   "cell_type": "code",
   "execution_count": 9,
   "metadata": {},
   "outputs": [
    {
     "data": {
      "text/plain": [
       "1    2242\n",
       "0    2242\n",
       "Name: label, dtype: int64"
      ]
     },
     "execution_count": 9,
     "metadata": {},
     "output_type": "execute_result"
    }
   ],
   "source": [
    "tweet_majority = tweetDataCleaned[tweetDataCleaned[\"label\"]==0]\n",
    "tweet_minority = tweetDataCleaned[tweetDataCleaned[\"label\"]==1]\n",
    "\n",
    "tweetDataCleaned_mejority_downsampled = resample(tweet_majority,\n",
    "                                               replace=False,     # sample with replacement\n",
    "                                               n_samples=2242,    # to match majority class\n",
    "                                               random_state=0) # reproducible results\n",
    "tweetDataCleaned_downsampled = pd.concat([tweetDataCleaned_mejority_downsampled, tweet_minority])\n",
    "\n",
    "tweetDataCleaned_downsampled.label.value_counts()"
   ]
  },
  {
   "cell_type": "code",
   "execution_count": 14,
   "metadata": {
    "colab": {
     "base_uri": "https://localhost:8080/",
     "height": 302
    },
    "colab_type": "code",
    "executionInfo": {
     "elapsed": 20926,
     "status": "ok",
     "timestamp": 1595333200760,
     "user": {
      "displayName": "Ganesh Bhat M S",
      "photoUrl": "",
      "userId": "03973382970329455094"
     },
     "user_tz": -330
    },
    "id": "gi03owvLEt3m",
    "outputId": "fedc02b1-f4b4-4f62-b599-7cd21f9a1fbd"
   },
   "outputs": [
    {
     "data": {
      "image/png": "[encoded data removed]",
      "text/plain": [
       "<Figure size 432x288 with 1 Axes>"
      ]
     },
     "metadata": {},
     "output_type": "display_data"
    }
   ],
   "source": [
    "sns.set(style='darkgrid')\n",
    "ax = sns.barplot(x='label',y='label', estimator=lambda x: len(x) / len(tweetDataCleaned_downsampled) * 100,\\\n",
    "                 data=tweetDataCleaned_downsampled)\n",
    "ax.set(ylabel='Percent', xlabel='sentiment')\n",
    "fig = ax.get_figure()\n",
    "fig.savefig(\"cls_down.png\")"
   ]
  },
  {
   "cell_type": "markdown",
   "metadata": {
    "colab_type": "text",
    "id": "RGulxLmxXUI8"
   },
   "source": [
    "## TF-IDF"
   ]
  },
  {
   "cell_type": "code",
   "execution_count": 15,
   "metadata": {},
   "outputs": [],
   "source": [
    "tweetDataCleaned_downsampled = tweetDataCleaned_downsampled.sample(frac=1)"
   ]
  },
  {
   "cell_type": "code",
   "execution_count": 16,
   "metadata": {
    "colab": {},
    "colab_type": "code",
    "executionInfo": {
     "elapsed": 1417,
     "status": "ok",
     "timestamp": 1595334818960,
     "user": {
      "displayName": "Ganesh Bhat M S",
      "photoUrl": "",
      "userId": "03973382970329455094"
     },
     "user_tz": -330
    },
    "id": "i7A1ud0uSe-S"
   },
   "outputs": [],
   "source": [
    "train = tweetDataCleaned_downsampled.iloc[:29720,0]\n",
    "tfidf=TfidfVectorizer(max_df=0.90, min_df=2,max_features=1000,stop_words='english')\n",
    "tfidf_matrix=tfidf.fit_transform(tweetDataCleaned_downsampled['cleaned'])\n",
    "df_tfidf = pd.DataFrame(tfidf_matrix.todense())\n",
    "\n",
    "train_tfidf_matrix = tfidf_matrix[:29720]\n",
    "train_tfidf_matrix.todense()\n",
    "x_train_tfidf, x_valid_tfidf, y_train_tfidf, y_valid_tfidf = train_test_split(train_tfidf_matrix,train,test_size=0.3,random_state=17)"
   ]
  },
  {
   "cell_type": "markdown",
   "metadata": {
    "colab_type": "text",
    "id": "_6c7XUJeXvDc"
   },
   "source": [
    "## Logistic regression"
   ]
  },
  {
   "cell_type": "code",
   "execution_count": 17,
   "metadata": {},
   "outputs": [
    {
     "name": "stdout",
     "output_type": "stream",
     "text": [
      "              precision    recall  f1-score   support\n",
      "\n",
      "           0       0.79      0.90      0.84       664\n",
      "           1       0.89      0.77      0.83       682\n",
      "\n",
      "    accuracy                           0.84      1346\n",
      "   macro avg       0.84      0.84      0.83      1346\n",
      "weighted avg       0.84      0.84      0.83      1346\n",
      "\n",
      "================================================================================\n",
      "accuracy_score:0.8350668647845468\n",
      "Model - LogisticRegression(random_state=0)\n",
      "================================================================================\n",
      "Confusion Matrix:\n"
     ]
    },
    {
     "data": {
      "text/plain": [
       "array([[597,  67],\n",
       "       [155, 527]])"
      ]
     },
     "execution_count": 17,
     "metadata": {},
     "output_type": "execute_result"
    }
   ],
   "source": [
    "Log_Reg = LogisticRegression(random_state=0,solver='lbfgs')\n",
    "Log_Reg.fit(x_train_tfidf,y_train_tfidf)\n",
    "prediction_tfidf = Log_Reg.predict_proba(x_valid_tfidf)\n",
    "\n",
    "prediction_int = prediction_tfidf[:,1]>=0.55\n",
    "prediction_int = prediction_int.astype(np.int)\n",
    "prediction_int\n",
    "\n",
    "print(classification_report(y_valid_tfidf, prediction_int))\n",
    "print(\"====\"*20)\n",
    "Log_Reg_tfidf = accuracy_score(y_valid_tfidf, prediction_int)\n",
    "print(\"accuracy_score:\"+str(Log_Reg_tfidf))\n",
    "print('Model - '+str(Log_Reg))\n",
    "print(\"====\"*20)\n",
    "print(\"Confusion Matrix:\")\n",
    "confusion_matrix(y_valid_tfidf, prediction_int, labels = [0,1])"
   ]
  },
  {
   "cell_type": "markdown",
   "metadata": {},
   "source": [
    "### Decision Tree Classifier"
   ]
  },
  {
   "cell_type": "code",
   "execution_count": 18,
   "metadata": {},
   "outputs": [
    {
     "name": "stdout",
     "output_type": "stream",
     "text": [
      "              precision    recall  f1-score   support\n",
      "\n",
      "           0       0.53      0.98      0.69       664\n",
      "           1       0.91      0.17      0.28       682\n",
      "\n",
      "    accuracy                           0.57      1346\n",
      "   macro avg       0.72      0.58      0.49      1346\n",
      "weighted avg       0.73      0.57      0.48      1346\n",
      "\n",
      "================================================================================\n",
      "accuracy_score:0.5698365527488856\n",
      "Model - DecisionTreeClassifier(class_weight='balanced', criterion='entropy',\n",
      "                       max_depth=4, random_state=0)\n",
      "================================================================================\n",
      "Confusion Matrix:\n"
     ]
    },
    {
     "data": {
      "text/plain": [
       "array([[653,  11],\n",
       "       [568, 114]])"
      ]
     },
     "execution_count": 18,
     "metadata": {},
     "output_type": "execute_result"
    }
   ],
   "source": [
    "dec_tree = DecisionTreeClassifier(class_weight=\"balanced\", random_state=0,criterion=\"entropy\", max_depth=4)\n",
    "dec_tree.fit(x_train_tfidf,y_train_tfidf)\n",
    "prediction_tfidf = dec_tree.predict_proba(x_valid_tfidf)\n",
    "\n",
    "prediction_int = prediction_tfidf[:,1]>=0.55\n",
    "prediction_int = prediction_int.astype(np.int)\n",
    "prediction_int\n",
    "\n",
    "print(classification_report(y_valid_tfidf, prediction_int))\n",
    "print(\"====\"*20)\n",
    "dec_tree_tfidf = accuracy_score(y_valid_tfidf, prediction_int)\n",
    "print(\"accuracy_score:\"+str(dec_tree_tfidf))\n",
    "print('Model - '+str(dec_tree))\n",
    "print(\"====\"*20)\n",
    "print(\"Confusion Matrix:\")\n",
    "confusion_matrix(y_valid_tfidf, prediction_int, labels = [0,1])"
   ]
  },
  {
   "cell_type": "markdown",
   "metadata": {},
   "source": [
    "### RandomForestClassifier"
   ]
  },
  {
   "cell_type": "code",
   "execution_count": 19,
   "metadata": {},
   "outputs": [
    {
     "name": "stdout",
     "output_type": "stream",
     "text": [
      "              precision    recall  f1-score   support\n",
      "\n",
      "           0       0.95      0.25      0.39       664\n",
      "           1       0.57      0.99      0.73       682\n",
      "\n",
      "    accuracy                           0.62      1346\n",
      "   macro avg       0.76      0.62      0.56      1346\n",
      "weighted avg       0.76      0.62      0.56      1346\n",
      "\n",
      "================================================================================\n",
      "accuracy_score:0.6225854383358098\n",
      "Model - RandomForestClassifier(class_weight='balanced', criterion='entropy',\n",
      "                       max_depth=5, max_samples=200, random_state=0)\n",
      "================================================================================\n",
      "Confusion Matrix:\n"
     ]
    },
    {
     "data": {
      "text/plain": [
       "array([[164, 500],\n",
       "       [  8, 674]])"
      ]
     },
     "execution_count": 19,
     "metadata": {},
     "output_type": "execute_result"
    }
   ],
   "source": [
    "ran_forest = RandomForestClassifier(class_weight=\"balanced\", random_state=0,criterion=\"entropy\", \n",
    "                               max_depth=5, max_samples=200)\n",
    "ran_forest.fit(x_train_tfidf,y_train_tfidf)\n",
    "prediction_tfidf = ran_forest.predict_proba(x_valid_tfidf)\n",
    "\n",
    "prediction_int = prediction_tfidf[:,1]>=0.45\n",
    "prediction_int = prediction_int.astype(np.int)\n",
    "prediction_int\n",
    "\n",
    "print(classification_report(y_valid_tfidf, prediction_int))\n",
    "print(\"====\"*20)\n",
    "ran_forest_tfidf = accuracy_score(y_valid_tfidf, prediction_int)\n",
    "print(\"accuracy_score:\"+str(ran_forest_tfidf))\n",
    "print('Model - '+str(ran_forest))\n",
    "print(\"====\"*20)\n",
    "print(\"Confusion Matrix:\")\n",
    "confusion_matrix(y_valid_tfidf, prediction_int, labels = [0,1])"
   ]
  },
  {
   "cell_type": "markdown",
   "metadata": {},
   "source": [
    "### MultinomialNB"
   ]
  },
  {
   "cell_type": "code",
   "execution_count": 20,
   "metadata": {},
   "outputs": [
    {
     "name": "stdout",
     "output_type": "stream",
     "text": [
      "              precision    recall  f1-score   support\n",
      "\n",
      "           0       0.81      0.88      0.85       664\n",
      "           1       0.87      0.80      0.84       682\n",
      "\n",
      "    accuracy                           0.84      1346\n",
      "   macro avg       0.84      0.84      0.84      1346\n",
      "weighted avg       0.84      0.84      0.84      1346\n",
      "\n",
      "================================================================================\n",
      "accuracy_score:0.8410104011887073\n",
      "Model - MultinomialNB(fit_prior=False)\n",
      "================================================================================\n",
      "Confusion Matrix:\n"
     ]
    },
    {
     "data": {
      "text/plain": [
       "array([[585,  79],\n",
       "       [135, 547]])"
      ]
     },
     "execution_count": 20,
     "metadata": {},
     "output_type": "execute_result"
    }
   ],
   "source": [
    "mnb = MultinomialNB(alpha=1.0, fit_prior=False)\n",
    "mnb.fit(x_train_tfidf,y_train_tfidf)\n",
    "prediction_tfidf = mnb.predict_proba(x_valid_tfidf)\n",
    "\n",
    "prediction_int = prediction_tfidf[:,1]>=0.55\n",
    "prediction_int = prediction_int.astype(np.int)\n",
    "prediction_int\n",
    "\n",
    "print(classification_report(y_valid_tfidf, prediction_int))\n",
    "print(\"====\"*20)\n",
    "mnb_tfidf = accuracy_score(y_valid_tfidf, prediction_int)\n",
    "print(\"accuracy_score:\"+str(mnb_tfidf))\n",
    "print('Model - '+str(mnb))\n",
    "print(\"====\"*20)\n",
    "print(\"Confusion Matrix:\")\n",
    "confusion_matrix(y_valid_tfidf, prediction_int, labels = [0,1])"
   ]
  },
  {
   "cell_type": "markdown",
   "metadata": {},
   "source": [
    "## Ensemble"
   ]
  },
  {
   "cell_type": "code",
   "execution_count": 21,
   "metadata": {},
   "outputs": [
    {
     "name": "stdout",
     "output_type": "stream",
     "text": [
      "              precision    recall  f1-score   support\n",
      "\n",
      "           0       0.83      0.84      0.84       664\n",
      "           1       0.85      0.83      0.84       682\n",
      "\n",
      "    accuracy                           0.84      1346\n",
      "   macro avg       0.84      0.84      0.84      1346\n",
      "weighted avg       0.84      0.84      0.84      1346\n",
      "\n",
      "================================================================================\n",
      "accuracy_score:0.8358098068350669\n",
      "Model - VotingClassifier(estimators=[('lr', LogisticRegression(random_state=0)),\n",
      "                             ('mnb', MultinomialNB(fit_prior=False))],\n",
      "                 voting='soft')\n",
      "================================================================================\n",
      "Confusion Matrix:\n"
     ]
    },
    {
     "data": {
      "text/plain": [
       "array([[561, 103],\n",
       "       [118, 564]])"
      ]
     },
     "execution_count": 21,
     "metadata": {},
     "output_type": "execute_result"
    }
   ],
   "source": [
    "model = VotingClassifier(estimators=[('lr',Log_Reg),('mnb',mnb)], voting='soft')\n",
    "model.fit(x_train_tfidf,y_train_tfidf)\n",
    "prediction_int = model.predict(x_valid_tfidf)\n",
    "\n",
    "print(classification_report(y_valid_tfidf, prediction_int))\n",
    "print(\"====\"*20)\n",
    "model_tfidf = accuracy_score(y_valid_tfidf, prediction_int)\n",
    "print(\"accuracy_score:\"+str(model_tfidf))\n",
    "print('Model - '+str(model))\n",
    "print(\"====\"*20)\n",
    "print(\"Confusion Matrix:\")\n",
    "confusion_matrix(y_valid_tfidf, prediction_int, labels = [0,1])"
   ]
  },
  {
   "cell_type": "code",
   "execution_count": null,
   "metadata": {},
   "outputs": [],
   "source": []
  },
  {
   "cell_type": "markdown",
   "metadata": {},
   "source": [
    "# Prediction of new data"
   ]
  },
  {
   "cell_type": "code",
   "execution_count": 22,
   "metadata": {},
   "outputs": [
    {
     "data": {
      "text/html": [
       "<div>\n",
       "<style scoped>\n",
       "    .dataframe tbody tr th:only-of-type {\n",
       "        vertical-align: middle;\n",
       "    }\n",
       "\n",
       "    .dataframe tbody tr th {\n",
       "        vertical-align: top;\n",
       "    }\n",
       "\n",
       "    .dataframe thead th {\n",
       "        text-align: right;\n",
       "    }\n",
       "</style>\n",
       "<table border=\"1\" class=\"dataframe\">\n",
       "  <thead>\n",
       "    <tr style=\"text-align: right;\">\n",
       "      <th></th>\n",
       "      <th>tweet</th>\n",
       "      <th>cleaned</th>\n",
       "    </tr>\n",
       "  </thead>\n",
       "  <tbody>\n",
       "    <tr>\n",
       "      <th>0</th>\n",
       "      <td>@TheQuint @shadabmoizee All #CAA_NRC_NPR Protests by Muslims incited by Congress &amp;amp; Communists for allowing illegal immigrants from Pakistan, Bangladesh &amp;amp; Myanmar into india is wrong since the #CitizenshipAmendmentAct was passed both in RAJYA SABHA &amp;amp; LOK SABHA. https://t.co/6LKhvw27yk</td>\n",
       "      <td>caa nrc npr protest muslim incited congress communist allowing illegal immigrant pakistan bangladesh myanmar india wrong since citizenshipamendmentact passed rajya sabha lok sabha</td>\n",
       "    </tr>\n",
       "    <tr>\n",
       "      <th>1</th>\n",
       "      <td>@jijoy_matt @sumanthraman #ISLAMOPHOBIA FACT:\\r\\n\\r\\nNon-Muslims must be educated on \"ISLAMIC SHARIA LAW &amp;amp; DEMOGRAPHIC JIHAD\" to know the Anti-Muslim Law in #CitizenshipAmendmentAct.\\r\\n\\r\\nSEPARATE RELIGION &amp;amp; STATE FOR SECULAR UNIFORM CIVIL CODE.\\r\\n\\r\\ncc: @rashtrapatibhvn @VPSecretariat @PMOIndia @HMOIndia @amitmalviya https://t.co/HWoyE3obc2</td>\n",
       "      <td>islamophobia fact non muslim must educated islamic sharia law demographic jihad know anti muslim law citizenshipamendmentact separate religion state secular uniform civil code cc</td>\n",
       "    </tr>\n",
       "    <tr>\n",
       "      <th>2</th>\n",
       "      <td>@BernieSanders @POTUS @realDonaldTrump @OIC_OCI @PeteButtigieg @ewarren @UKParliament @BorisJohnson @KremlinRussia_E @JustinTrudeau @georgesoros @OpenSociety @USCIRF must see india's Anti-Muslim #CitizenshipAmendmentAct while keeping in mind \"HUMANITY'S GOLDEN RULE OF TREATING OTHERS LIKE YOU ARE TREATED\" \\r\\n\\r\\nISLAMIC SHARIA ILL TREATS NON-MUSLIMS AS KAFIRS\\r\\nhttps://t.co/jU7S3f71Pj\\r\\n\\r\\n @HMOIndia @AmitShah @DrSJaishankar @MEAIndia @MEAIndia https://t.co/lQ2IWm83n2</td>\n",
       "      <td>must see india anti muslim citizenshipamendmentact keeping mind humanity golden rule treating others like treated islamic sharia ill treat non muslim kafir</td>\n",
       "    </tr>\n",
       "    <tr>\n",
       "      <th>3</th>\n",
       "      <td>Three\\r\\n\\r\\nA lone flag flutters\\r\\nIn a city charred by winds\\r\\nThus nation prevails\\r\\n\\r\\n#delhi #citizenshipamendmentact\\r\\n#delhiprotest #delhiviolence\\r\\n\\r\\n#haiku #travelhaiku #haikugram #micropoetry #writersofinstagram #poetry… https://t.co/2A0b30YjCc</td>\n",
       "      <td>three lone flag flutter city charred wind thus nation prevails delhi citizenshipamendmentact delhiprotest delhiviolence haiku travelhaiku haikugram micropoetry writersofinstagram poetry</td>\n",
       "    </tr>\n",
       "    <tr>\n",
       "      <th>4</th>\n",
       "      <td>Five\\r\\n\\r\\nShivering squirrels\\r\\nWithin withering tree trunks\\r\\nDo not make a noise\\r\\n\\r\\n#delhi #citizenshipamendmentact\\r\\n#delhiprotest #delhiviolence #resist\\r\\n\\r\\n#haiku #travelhaiku #haikugram #micropoetry #writersofinstagram… https://t.co/IChVLOFHdv</td>\n",
       "      <td>five shivering squirrel within withering tree trunk make noise delhi citizenshipamendmentact delhiprotest delhiviolence resist haiku travelhaiku haikugram micropoetry writersofinstagram</td>\n",
       "    </tr>\n",
       "  </tbody>\n",
       "</table>\n",
       "</div>"
      ],
      "text/plain": [
       "                                                                                                                                                                                                                                                                                                                                                                                                                                                                                          tweet  \\\n",
       "0                                                                                                                                                                                      @TheQuint @shadabmoizee All #CAA_NRC_NPR Protests by Muslims incited by Congress &amp; Communists for allowing illegal immigrants from Pakistan, Bangladesh &amp; Myanmar into india is wrong since the #CitizenshipAmendmentAct was passed both in RAJYA SABHA &amp; LOK SABHA. https://t.co/6LKhvw27yk   \n",
       "1                                                                                                                           @jijoy_matt @sumanthraman #ISLAMOPHOBIA FACT:\\r\\n\\r\\nNon-Muslims must be educated on \"ISLAMIC SHARIA LAW &amp; DEMOGRAPHIC JIHAD\" to know the Anti-Muslim Law in #CitizenshipAmendmentAct.\\r\\n\\r\\nSEPARATE RELIGION &amp; STATE FOR SECULAR UNIFORM CIVIL CODE.\\r\\n\\r\\ncc: @rashtrapatibhvn @VPSecretariat @PMOIndia @HMOIndia @amitmalviya https://t.co/HWoyE3obc2   \n",
       "2  @BernieSanders @POTUS @realDonaldTrump @OIC_OCI @PeteButtigieg @ewarren @UKParliament @BorisJohnson @KremlinRussia_E @JustinTrudeau @georgesoros @OpenSociety @USCIRF must see india's Anti-Muslim #CitizenshipAmendmentAct while keeping in mind \"HUMANITY'S GOLDEN RULE OF TREATING OTHERS LIKE YOU ARE TREATED\" \\r\\n\\r\\nISLAMIC SHARIA ILL TREATS NON-MUSLIMS AS KAFIRS\\r\\nhttps://t.co/jU7S3f71Pj\\r\\n\\r\\n @HMOIndia @AmitShah @DrSJaishankar @MEAIndia @MEAIndia https://t.co/lQ2IWm83n2   \n",
       "3                                                                                                                                                                                                                        Three\\r\\n\\r\\nA lone flag flutters\\r\\nIn a city charred by winds\\r\\nThus nation prevails\\r\\n\\r\\n#delhi #citizenshipamendmentact\\r\\n#delhiprotest #delhiviolence\\r\\n\\r\\n#haiku #travelhaiku #haikugram #micropoetry #writersofinstagram #poetry… https://t.co/2A0b30YjCc   \n",
       "4                                                                                                                                                                                                                         Five\\r\\n\\r\\nShivering squirrels\\r\\nWithin withering tree trunks\\r\\nDo not make a noise\\r\\n\\r\\n#delhi #citizenshipamendmentact\\r\\n#delhiprotest #delhiviolence #resist\\r\\n\\r\\n#haiku #travelhaiku #haikugram #micropoetry #writersofinstagram… https://t.co/IChVLOFHdv   \n",
       "\n",
       "                                                                                                                                                                                     cleaned  \n",
       "0        caa nrc npr protest muslim incited congress communist allowing illegal immigrant pakistan bangladesh myanmar india wrong since citizenshipamendmentact passed rajya sabha lok sabha  \n",
       "1         islamophobia fact non muslim must educated islamic sharia law demographic jihad know anti muslim law citizenshipamendmentact separate religion state secular uniform civil code cc  \n",
       "2                                must see india anti muslim citizenshipamendmentact keeping mind humanity golden rule treating others like treated islamic sharia ill treat non muslim kafir  \n",
       "3  three lone flag flutter city charred wind thus nation prevails delhi citizenshipamendmentact delhiprotest delhiviolence haiku travelhaiku haikugram micropoetry writersofinstagram poetry  \n",
       "4  five shivering squirrel within withering tree trunk make noise delhi citizenshipamendmentact delhiprotest delhiviolence resist haiku travelhaiku haikugram micropoetry writersofinstagram  "
      ]
     },
     "execution_count": 22,
     "metadata": {},
     "output_type": "execute_result"
    }
   ],
   "source": [
    "testData = pd.read_csv(\"Data/test_tweets.csv\")\n",
    "testDataCleaned = preprocess(testData)\n",
    "testDataCleaned.head()"
   ]
  },
  {
   "cell_type": "code",
   "execution_count": 45,
   "metadata": {},
   "outputs": [
    {
     "data": {
      "text/plain": [
       "{'estimators': [('lr', LogisticRegression(random_state=0)),\n",
       "  ('mnb', MultinomialNB(fit_prior=False))],\n",
       " 'flatten_transform': True,\n",
       " 'n_jobs': None,\n",
       " 'verbose': False,\n",
       " 'voting': 'soft',\n",
       " 'weights': None}"
      ]
     },
     "execution_count": 45,
     "metadata": {},
     "output_type": "execute_result"
    }
   ],
   "source": [
    "tfidf=TfidfVectorizer(max_df=0.90, min_df=2,max_features=1000,stop_words='english')\n",
    "tfidf_matrix=tfidf.fit_transform(testDataCleaned['cleaned'])\n",
    "df_tfidf = pd.DataFrame(tfidf_matrix.todense())\n",
    "\n",
    "prediction_int = model.predict(tfidf_matrix)\n",
    "model.get_params(deep=False)"
   ]
  },
  {
   "cell_type": "code",
   "execution_count": 24,
   "metadata": {},
   "outputs": [
    {
     "name": "stdout",
     "output_type": "stream",
     "text": [
      "(5639, 2)\n"
     ]
    },
    {
     "data": {
      "text/html": [
       "<div>\n",
       "<style scoped>\n",
       "    .dataframe tbody tr th:only-of-type {\n",
       "        vertical-align: middle;\n",
       "    }\n",
       "\n",
       "    .dataframe tbody tr th {\n",
       "        vertical-align: top;\n",
       "    }\n",
       "\n",
       "    .dataframe thead th {\n",
       "        text-align: right;\n",
       "    }\n",
       "</style>\n",
       "<table border=\"1\" class=\"dataframe\">\n",
       "  <thead>\n",
       "    <tr style=\"text-align: right;\">\n",
       "      <th></th>\n",
       "      <th>tweet_id</th>\n",
       "      <th>Sentiment</th>\n",
       "    </tr>\n",
       "  </thead>\n",
       "  <tbody>\n",
       "    <tr>\n",
       "      <th>0</th>\n",
       "      <td>@TheQuint @shadabmoizee All #CAA_NRC_NPR Protests by Muslims incited by Congress &amp;amp; Communists for allowing illegal immigrants from Pakistan, Bangladesh &amp;amp; Myanmar into india is wrong since the #CitizenshipAmendmentAct was passed both in RAJYA SABHA &amp;amp; LOK SABHA. https://t.co/6LKhvw27yk</td>\n",
       "      <td>1</td>\n",
       "    </tr>\n",
       "    <tr>\n",
       "      <th>1</th>\n",
       "      <td>@jijoy_matt @sumanthraman #ISLAMOPHOBIA FACT:\\r\\n\\r\\nNon-Muslims must be educated on \"ISLAMIC SHARIA LAW &amp;amp; DEMOGRAPHIC JIHAD\" to know the Anti-Muslim Law in #CitizenshipAmendmentAct.\\r\\n\\r\\nSEPARATE RELIGION &amp;amp; STATE FOR SECULAR UNIFORM CIVIL CODE.\\r\\n\\r\\ncc: @rashtrapatibhvn @VPSecretariat @PMOIndia @HMOIndia @amitmalviya https://t.co/HWoyE3obc2</td>\n",
       "      <td>0</td>\n",
       "    </tr>\n",
       "    <tr>\n",
       "      <th>2</th>\n",
       "      <td>@BernieSanders @POTUS @realDonaldTrump @OIC_OCI @PeteButtigieg @ewarren @UKParliament @BorisJohnson @KremlinRussia_E @JustinTrudeau @georgesoros @OpenSociety @USCIRF must see india's Anti-Muslim #CitizenshipAmendmentAct while keeping in mind \"HUMANITY'S GOLDEN RULE OF TREATING OTHERS LIKE YOU ARE TREATED\" \\r\\n\\r\\nISLAMIC SHARIA ILL TREATS NON-MUSLIMS AS KAFIRS\\r\\nhttps://t.co/jU7S3f71Pj\\r\\n\\r\\n @HMOIndia @AmitShah @DrSJaishankar @MEAIndia @MEAIndia https://t.co/lQ2IWm83n2</td>\n",
       "      <td>1</td>\n",
       "    </tr>\n",
       "    <tr>\n",
       "      <th>3</th>\n",
       "      <td>Three\\r\\n\\r\\nA lone flag flutters\\r\\nIn a city charred by winds\\r\\nThus nation prevails\\r\\n\\r\\n#delhi #citizenshipamendmentact\\r\\n#delhiprotest #delhiviolence\\r\\n\\r\\n#haiku #travelhaiku #haikugram #micropoetry #writersofinstagram #poetry… https://t.co/2A0b30YjCc</td>\n",
       "      <td>1</td>\n",
       "    </tr>\n",
       "    <tr>\n",
       "      <th>4</th>\n",
       "      <td>Five\\r\\n\\r\\nShivering squirrels\\r\\nWithin withering tree trunks\\r\\nDo not make a noise\\r\\n\\r\\n#delhi #citizenshipamendmentact\\r\\n#delhiprotest #delhiviolence #resist\\r\\n\\r\\n#haiku #travelhaiku #haikugram #micropoetry #writersofinstagram… https://t.co/IChVLOFHdv</td>\n",
       "      <td>0</td>\n",
       "    </tr>\n",
       "  </tbody>\n",
       "</table>\n",
       "</div>"
      ],
      "text/plain": [
       "                                                                                                                                                                                                                                                                                                                                                                                                                                                                                       tweet_id  \\\n",
       "0                                                                                                                                                                                      @TheQuint @shadabmoizee All #CAA_NRC_NPR Protests by Muslims incited by Congress &amp; Communists for allowing illegal immigrants from Pakistan, Bangladesh &amp; Myanmar into india is wrong since the #CitizenshipAmendmentAct was passed both in RAJYA SABHA &amp; LOK SABHA. https://t.co/6LKhvw27yk   \n",
       "1                                                                                                                           @jijoy_matt @sumanthraman #ISLAMOPHOBIA FACT:\\r\\n\\r\\nNon-Muslims must be educated on \"ISLAMIC SHARIA LAW &amp; DEMOGRAPHIC JIHAD\" to know the Anti-Muslim Law in #CitizenshipAmendmentAct.\\r\\n\\r\\nSEPARATE RELIGION &amp; STATE FOR SECULAR UNIFORM CIVIL CODE.\\r\\n\\r\\ncc: @rashtrapatibhvn @VPSecretariat @PMOIndia @HMOIndia @amitmalviya https://t.co/HWoyE3obc2   \n",
       "2  @BernieSanders @POTUS @realDonaldTrump @OIC_OCI @PeteButtigieg @ewarren @UKParliament @BorisJohnson @KremlinRussia_E @JustinTrudeau @georgesoros @OpenSociety @USCIRF must see india's Anti-Muslim #CitizenshipAmendmentAct while keeping in mind \"HUMANITY'S GOLDEN RULE OF TREATING OTHERS LIKE YOU ARE TREATED\" \\r\\n\\r\\nISLAMIC SHARIA ILL TREATS NON-MUSLIMS AS KAFIRS\\r\\nhttps://t.co/jU7S3f71Pj\\r\\n\\r\\n @HMOIndia @AmitShah @DrSJaishankar @MEAIndia @MEAIndia https://t.co/lQ2IWm83n2   \n",
       "3                                                                                                                                                                                                                        Three\\r\\n\\r\\nA lone flag flutters\\r\\nIn a city charred by winds\\r\\nThus nation prevails\\r\\n\\r\\n#delhi #citizenshipamendmentact\\r\\n#delhiprotest #delhiviolence\\r\\n\\r\\n#haiku #travelhaiku #haikugram #micropoetry #writersofinstagram #poetry… https://t.co/2A0b30YjCc   \n",
       "4                                                                                                                                                                                                                         Five\\r\\n\\r\\nShivering squirrels\\r\\nWithin withering tree trunks\\r\\nDo not make a noise\\r\\n\\r\\n#delhi #citizenshipamendmentact\\r\\n#delhiprotest #delhiviolence #resist\\r\\n\\r\\n#haiku #travelhaiku #haikugram #micropoetry #writersofinstagram… https://t.co/IChVLOFHdv   \n",
       "\n",
       "   Sentiment  \n",
       "0          1  \n",
       "1          0  \n",
       "2          1  \n",
       "3          1  \n",
       "4          0  "
      ]
     },
     "execution_count": 24,
     "metadata": {},
     "output_type": "execute_result"
    }
   ],
   "source": [
    "#Create a  DataFrame with the tweet_id and our prediction regarding sentiment\n",
    "submission_upsample = pd.DataFrame({'tweet_id':testDataCleaned['tweet'],'Sentiment':prediction_int})\n",
    "submission_upsample.to_csv('submission_upsample.csv', index=False)\n",
    "print(submission_upsample.shape)\n",
    "submission_upsample.head()"
   ]
  },
  {
   "cell_type": "code",
   "execution_count": 25,
   "metadata": {},
   "outputs": [
    {
     "data": {
      "text/plain": [
       "3451"
      ]
     },
     "execution_count": 25,
     "metadata": {},
     "output_type": "execute_result"
    }
   ],
   "source": [
    "len(prediction_int[prediction_int==1])"
   ]
  }
 ],
 "metadata": {
  "kernelspec": {
   "display_name": "Python 3",
   "language": "python",
   "name": "python3"
  },
  "language_info": {
   "codemirror_mode": {
    "name": "ipython",
    "version": 3
   },
   "file_extension": ".py",
   "mimetype": "text/x-python",
   "name": "python",
   "nbconvert_exporter": "python",
   "pygments_lexer": "ipython3",
   "version": "3.8.3"
  }
 },
 "nbformat": 4,
 "nbformat_minor": 4
}
